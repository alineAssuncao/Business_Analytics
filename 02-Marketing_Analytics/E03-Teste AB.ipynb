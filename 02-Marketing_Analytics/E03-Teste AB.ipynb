{
 "cells": [
  {
   "cell_type": "markdown",
   "metadata": {
    "collapsed": true
   },
   "source": [
    "# Marketing Analytics"
   ]
  },
  {
   "cell_type": "markdown",
   "metadata": {},
   "source": [
    "## Teste A/B"
   ]
  },
  {
   "cell_type": "markdown",
   "metadata": {},
   "source": [
    "Teste A/B é uma ferramenta muito poderosa para otimizar um web site. Suponha que você deseja que seus usuários se inscrevam para o seu boletim informativo (newsletter). A chamada à ação do seu site é \"Cadastre-se agora!\". No entanto, você quer saber se a frase \"Cadastre-se hoje!\" será mais eficaz. Você mostra sua versão (\"Cadastre-se agora!\") para alguns de seus usuários e cria uma versão B (\"Cadastre-se hoje!\"), mostrada a um segundo grupo de usuários. A pergunta que você quer responder é: Deixo minha página como está (ou seja, mantendo a versão A), ou eu mudo para a versão B?"
   ]
  },
  {
   "cell_type": "markdown",
   "metadata": {},
   "source": [
    "Depois de ter escolhido a métrica que o interessa (no nosso caso, clicando no botão), estimamos as \"taxas de conversão\" para os grupos A e B, representandos por pA e pB respectivamente, onde pA = (número de conversões no grupo A) / Tamanho do grupo A) e pB = (número de conversões no grupo B) / (tamanho do grupo B). Tenha em mente que estas são meras estimativas das verdadeiras taxas de conversão desconhecidas. Nossas perguntas anteriores se tornam: Qual é a probabilidade de pB ser maior que pA, ou, Prob (pB > pA)? Claro, não podemos pedir a cada pessoa do planeta para para acessar nosso web site. Além disso, a decisão de uma pessoa de clicar em nosso botão pode mudar de um dia para outro. É por isso que contamos com experimentos e estatísticas. O teste estatístico mais direto a ser executado é um teste z. Certamente, para grandes amostras (mais de 1000 visualizações), esta é uma boa abordagem. No entanto, o que acontece se o nosso tamanho da amostra é muito menor do que isso? Ou, se somos obrigados a terminar o nosso teste A/B mais cedo?"
   ]
  },
  {
   "cell_type": "markdown",
   "metadata": {},
   "source": [
    "É aqui que as estatísticas bayesianas vêm ao nosso resgate. Métodos bayesianos nos permitem incorporar informação prévia ou crenças em nossos modelos, permitindo-nos tomar uma decisão mais bem informada. Esta é a fórmula do Teorema de Bayes, que iremos implementar em Python para analisar o resultado de um Teste A/B."
   ]
  },
  {
   "cell_type": "markdown",
   "metadata": {},
   "source": [
    "Basicamente, dizemos que as taxas de conversão têm uma distribuição prévia de uma distribuição beta. Posteriormente, Prob (pB > pA) é calculado como a integral dupla da distribuição conjunta de pA e pB (que, dada a independência, é apenas o produto das distribuições individuais) em que pB > pA. Isso produz esta bela fórmula:"
   ]
  },
  {
   "cell_type": "code",
   "execution_count": 1,
   "metadata": {},
   "outputs": [
    {
     "data": {
      "text/html": [
       "<img src=\"image/formula.png\"/>"
      ],
      "text/plain": [
       "<IPython.core.display.Image object>"
      ]
     },
     "execution_count": 1,
     "metadata": {},
     "output_type": "execute_result"
    }
   ],
   "source": [
    "from IPython.display import Image\n",
    "Image(url = 'image/formula.png')"
   ]
  },
  {
   "cell_type": "code",
   "execution_count": 2,
   "metadata": {},
   "outputs": [],
   "source": [
    "from scipy.special import beta\n",
    "import matplotlib.pyplot as plt\n",
    "from math import log, exp\n",
    "from random import random\n",
    "%matplotlib inline"
   ]
  },
  {
   "cell_type": "code",
   "execution_count": 3,
   "metadata": {},
   "outputs": [],
   "source": [
    "# Função para simular a geração de um experimento\n",
    "\n",
    "def generate_one_experiment(total_number_of_visitors, prob_of_showing_version_A, p_A_true, p_B_true):\n",
    "\n",
    "    size_A = 0\n",
    "    num_conversions_A = 0\n",
    "    size_B = 0\n",
    "    num_conversions_B = 0\n",
    "    probs_bayesian = [0]*total_number_of_visitors\n",
    "    probs_bayesian_online = [0]*total_number_of_visitors\n",
    "\n",
    "    probs_bayesian_online[0] = 0.5\n",
    "\n",
    "    for j in range(1, total_number_of_visitors):\n",
    "\n",
    "        visitor = int(random() < prob_of_showing_version_A)\n",
    "\n",
    "        if visitor:\n",
    "            size_A += 1\n",
    "            visitor_converts = int(random() < p_A_true)\n",
    "            num_conversions_A += visitor_converts\n",
    "            if visitor_converts:\n",
    "                changing_variable = 'alpha_A'\n",
    "            else:\n",
    "                changing_variable = 'beta_A'\n",
    "        else:\n",
    "            size_B += 1\n",
    "            visitor_converts = int(random() < p_B_true)\n",
    "            num_conversions_B += visitor_converts\n",
    "            if visitor_converts:\n",
    "                changing_variable = 'alpha_B'\n",
    "            else:\n",
    "                changing_variable = 'beta_B'\n",
    "\n",
    "        alpha_A = num_conversions_A + 1\n",
    "        beta_A = size_A - num_conversions_A + 1\n",
    "        alpha_B = num_conversions_B + 1\n",
    "        beta_B = size_B - num_conversions_B + 1\n",
    "\n",
    "        prob_pB_greater_than_pA_old = probs_bayesian_online[j-1]\n",
    "\n",
    "        prob_pB_greater_than_pA_bayesian = bayesian_test(alpha_A, beta_A, alpha_B, beta_B)\n",
    "        prob_pB_greater_than_pA_bayesian_online = bayesian_test_online(alpha_A, beta_A,\n",
    "              alpha_B, beta_B, prob_pB_greater_than_pA_old, changing_variable)\n",
    "\n",
    "        probs_bayesian[j] = prob_pB_greater_than_pA_bayesian\n",
    "        probs_bayesian_online[j] = prob_pB_greater_than_pA_bayesian_online\n",
    "\n",
    "    return probs_bayesian, probs_bayesian_online\n"
   ]
  },
  {
   "cell_type": "code",
   "execution_count": 4,
   "metadata": {},
   "outputs": [],
   "source": [
    "# Função para realizar o teste bayesiano\n",
    "\n",
    "def bayesian_test(alpha_A, beta_A, alpha_B, beta_B):\n",
    "\n",
    "    prob_pB_greater_than_pA = 0\n",
    "    for i in range(0, alpha_B):\n",
    "        prob_pB_greater_than_pA += exp(log(beta(alpha_A + i, beta_B + beta_A)) - log(beta_B + i) -\n",
    "                                       log(beta(1 + i, beta_B)) - log(beta(alpha_A, beta_A)))\n",
    "\n",
    "    return prob_pB_greater_than_pA"
   ]
  },
  {
   "cell_type": "code",
   "execution_count": 5,
   "metadata": {},
   "outputs": [],
   "source": [
    "# Função para realizar o teste bayesiano online\n",
    "\n",
    "def bayesian_test_online(alpha_A, beta_A, alpha_B, beta_B, prob_pB_greater_than_pA_old, changing_variable):\n",
    "\n",
    "    if changing_variable =='alpha_A':\n",
    "        prob_pB_greater_than_pA = prob_pB_greater_than_pA_old - exp(log(beta(alpha_B + alpha_A - 1, beta_B + beta_A))\n",
    "                        - log(beta_A + alpha_A - 1) - log(beta(alpha_A, beta_A)) - log(beta(alpha_B, beta_B)))\n",
    "    if changing_variable =='alpha_B':\n",
    "        prob_pB_greater_than_pA = prob_pB_greater_than_pA_old + exp(log(beta(alpha_A + alpha_B - 1, beta_B + beta_A))\n",
    "                        - log(beta_B + alpha_B - 1) - log(beta(alpha_B, beta_B)) - log(beta(alpha_A, beta_A)))\n",
    "    if changing_variable =='beta_A':\n",
    "        prob_pB_greater_than_pA = prob_pB_greater_than_pA_old + exp(log(beta(beta_B + beta_A - 1, alpha_B + alpha_A))\n",
    "                        - log(alpha_A + beta_A - 1) - log(beta(beta_A, alpha_A)) - log(beta(alpha_B, beta_B)))\n",
    "    if changing_variable =='beta_B':\n",
    "        prob_pB_greater_than_pA = prob_pB_greater_than_pA_old - exp(log(beta(beta_A + beta_B - 1, alpha_B + alpha_A))\n",
    "                        - log(alpha_B + beta_B - 1) - log(beta(beta_B, alpha_B)) - log(beta(alpha_A, beta_A)))\n",
    "\n",
    "    return prob_pB_greater_than_pA"
   ]
  },
  {
   "cell_type": "code",
   "execution_count": 6,
   "metadata": {},
   "outputs": [],
   "source": [
    "# Definindo as variáveis\n",
    "\n",
    "total_number_of_visitors = 1000\n",
    "p_A_true = .2\n",
    "p_B_true = .3\n",
    "prob_of_showing_version_A = .5\n",
    "\n",
    "probs_bayesian, probs_bayesian_online = generate_one_experiment(total_number_of_visitors,\n",
    "                prob_of_showing_version_A, p_A_true, p_B_true)"
   ]
  },
  {
   "cell_type": "code",
   "execution_count": 7,
   "metadata": {},
   "outputs": [
    {
     "data": {
      "image/png": "[encoded data removed]",
      "text/plain": [
       "<Figure size 432x288 with 1 Axes>"
      ]
     },
     "metadata": {
      "needs_background": "light"
     },
     "output_type": "display_data"
    }
   ],
   "source": [
    "# Plot\n",
    "\n",
    "plt.figure()\n",
    "\n",
    "plt.subplot(211)\n",
    "plt.plot(probs_bayesian)\n",
    "plt.title('Teste A/B Bayesiano')\n",
    "plt.ylabel('Prob(pA < pB)')\n",
    "plt.ylim([0, 1])\n",
    "\n",
    "#plt.subplot(212)\n",
    "#plt.plot(probs_bayesian_online, color='red')\n",
    "#plt.title('Online Bayesian A/B testing')\n",
    "plt.xlabel('Número de Visitantes')\n",
    "plt.ylabel('Prob(pA < pB)')\n",
    "plt.ylim([0, 1])\n",
    "\n",
    "plt.show()"
   ]
  },
  {
   "cell_type": "markdown",
   "metadata": {},
   "source": [
    "## Análise"
   ]
  },
  {
   "cell_type": "markdown",
   "metadata": {},
   "source": [
    "Percebemos que à medida que aumenta o número de visitantes, aumenta consideravelmente a probabilidade de A ser menor que B. Ou seja, a versão B do nosso site terá mais sucesso, gerando mais conversões."
   ]
  }
 ],
 "metadata": {
  "anaconda-cloud": {},
  "kernelspec": {
   "display_name": "Python 3",
   "language": "python",
   "name": "python3"
  },
  "language_info": {
   "codemirror_mode": {
    "name": "ipython",
    "version": 3
   },
   "file_extension": ".py",
   "mimetype": "text/x-python",
   "name": "python",
   "nbconvert_exporter": "python",
   "pygments_lexer": "ipython3",
   "version": "3.7.3"
  }
 },
 "nbformat": 4,
 "nbformat_minor": 1
}
